{
 "cells": [
  {
   "cell_type": "code",
   "execution_count": 8,
   "metadata": {},
   "outputs": [
    {
     "name": "stdout",
     "output_type": "stream",
     "text": [
      " WARNING: Ignoring material with zero mass fraction: h2o\n",
      "....................\n",
      "....................\n",
      "Writing dust opacity output to file:  dustkappa_c100.inp\n",
      "....................\n",
      "....................\n",
      "Writing dust opacity output to file:  dustkappa_c90.inp\n",
      "....................\n",
      "....................\n",
      "Writing dust opacity output to file:  dustkappa_c80.inp\n",
      "....................\n",
      "....................\n",
      "Writing dust opacity output to file:  dustkappa_c70.inp\n",
      "....................\n",
      "....................\n",
      "Writing dust opacity output to file:  dustkappa_c60.inp\n",
      "....................\n",
      "....................\n",
      "Writing dust opacity output to file:  dustkappa_c50.inp\n",
      "....................\n",
      "....................\n",
      "Writing dust opacity output to file:  dustkappa_c40.inp\n",
      "....................\n",
      "....................\n",
      "Writing dust opacity output to file:  dustkappa_c30.inp\n",
      "....................\n",
      "....................\n",
      "Writing dust opacity output to file:  dustkappa_c20.inp\n",
      "....................\n",
      "....................\n",
      "Writing dust opacity output to file:  dustkappa_c10.inp\n"
     ]
    }
   ],
   "source": [
    "chem = input('input species name')\n",
    "species = [1, 0.9, 0.8, 0.7, 0.6, 0.5, 0.4, 0.3, 0.2, 0.1]\n",
    "water = [0, 0.1, 0.2, 0.3, 0.4, 0.5, 0.6, 0.7, 0.8, 0.9]\n",
    "name = [f'{chem}100', f'{chem}90', f'{chem}80', f'{chem}70', f'{chem}60', f'{chem}50', f'{chem}40', f'{chem}30', f'{chem}20', f'{chem}10']\n",
    "\n",
    "for i in range(0, 10):\n",
    "    !optool '{chem}' {species[i]} h2o {water[i]} -radmc3d {name[i]}"
   ]
  }
 ],
 "metadata": {
  "kernelspec": {
   "display_name": "venv",
   "language": "python",
   "name": "python3"
  },
  "language_info": {
   "codemirror_mode": {
    "name": "ipython",
    "version": 3
   },
   "file_extension": ".py",
   "mimetype": "text/x-python",
   "name": "python",
   "nbconvert_exporter": "python",
   "pygments_lexer": "ipython3",
   "version": "3.10.11"
  }
 },
 "nbformat": 4,
 "nbformat_minor": 2
}
